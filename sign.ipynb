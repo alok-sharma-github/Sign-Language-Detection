{
 "cells": [
  {
   "cell_type": "code",
   "execution_count": 2,
   "metadata": {},
   "outputs": [],
   "source": [
    "train_dir = \"C:\\\\Users\\\\alok\\\\Downloads\\\\signLanguage\\\\Train\"\n",
    "test_dir = \"C:\\\\Users\\\\alok\\\\Downloads\\\\signLanguage\\\\Test\""
   ]
  },
  {
   "cell_type": "markdown",
   "metadata": {},
   "source": [
    "# Data Preprocessing\n",
    "- Read the picture files\n",
    "- Decode the JPEG content to RBG grids of pixels\n",
    "- Convert these in to floating tensors\n",
    "- Rescale the pixel values (between 0 and 255) to the [0,1] interval"
   ]
  },
  {
   "cell_type": "code",
   "execution_count": 1,
   "metadata": {},
   "outputs": [],
   "source": [
    "# All through single function\n",
    "from tensorflow.keras.preprocessing.image import ImageDataGenerator"
   ]
  },
  {
   "cell_type": "code",
   "execution_count": 3,
   "metadata": {},
   "outputs": [
    {
     "name": "stdout",
     "output_type": "stream",
     "text": [
      "Found 38000 images belonging to 37 classes.\n"
     ]
    }
   ],
   "source": [
    "# Generating batches of tensor image data\n",
    "train_datagen = ImageDataGenerator(rescale=1./255)\n",
    "test_datagen = ImageDataGenerator(rescale=1./255)\n",
    "\n",
    "train_datagenerator = train_datagen.flow_from_directory(\n",
    "    train_dir,\n",
    "    target_size = (150,150),\n",
    "    batch_size = 20,\n",
    "    class_mode= 'categorical'\n",
    ")"
   ]
  },
  {
   "cell_type": "code",
   "execution_count": 4,
   "metadata": {},
   "outputs": [],
   "source": [
    "from tensorflow.keras import layers\n",
    "from tensorflow.keras import models"
   ]
  },
  {
   "cell_type": "code",
   "execution_count": 5,
   "metadata": {},
   "outputs": [],
   "source": [
    "# 37 classes (A-Z[26], 0-9[10], _[1])\n",
    "num_classes = 37\n",
    "\n",
    "model = models.Sequential()\n",
    "\n",
    "model.add(layers.Conv2D(32, (3, 3), activation='relu', input_shape=(150, 150, 3)))\n",
    "model.add(layers.MaxPooling2D((2, 2)))\n",
    "\n",
    "model.add(layers.Conv2D(64, (3, 3), activation='relu'))\n",
    "model.add(layers.MaxPooling2D((2, 2)))\n",
    "\n",
    "model.add(layers.Conv2D(128, (3, 3), activation='relu'))\n",
    "model.add(layers.MaxPooling2D((2, 2)))\n",
    "\n",
    "model.add(layers.Conv2D(128, (3, 3), activation='relu'))\n",
    "model.add(layers.MaxPooling2D((2, 2)))\n",
    "\n",
    "model.add(layers.Flatten())\n",
    "\n",
    "model.add(layers.Dense(512, activation='relu'))\n",
    "model.add(layers.Dense(num_classes, activation='softmax'))  # Use 'softmax' for multi-class classification\n",
    "\n",
    "\n"
   ]
  },
  {
   "cell_type": "code",
   "execution_count": 6,
   "metadata": {},
   "outputs": [
    {
     "name": "stdout",
     "output_type": "stream",
     "text": [
      "Model: \"sequential\"\n",
      "_________________________________________________________________\n",
      " Layer (type)                Output Shape              Param #   \n",
      "=================================================================\n",
      " conv2d (Conv2D)             (None, 148, 148, 32)      896       \n",
      "                                                                 \n",
      " max_pooling2d (MaxPooling2D  (None, 74, 74, 32)       0         \n",
      " )                                                               \n",
      "                                                                 \n",
      " conv2d_1 (Conv2D)           (None, 72, 72, 64)        18496     \n",
      "                                                                 \n",
      " max_pooling2d_1 (MaxPooling  (None, 36, 36, 64)       0         \n",
      " 2D)                                                             \n",
      "                                                                 \n",
      " conv2d_2 (Conv2D)           (None, 34, 34, 128)       73856     \n",
      "                                                                 \n",
      " max_pooling2d_2 (MaxPooling  (None, 17, 17, 128)      0         \n",
      " 2D)                                                             \n",
      "                                                                 \n",
      " conv2d_3 (Conv2D)           (None, 15, 15, 128)       147584    \n",
      "                                                                 \n",
      " max_pooling2d_3 (MaxPooling  (None, 7, 7, 128)        0         \n",
      " 2D)                                                             \n",
      "                                                                 \n",
      " flatten (Flatten)           (None, 6272)              0         \n",
      "                                                                 \n",
      " dense (Dense)               (None, 512)               3211776   \n",
      "                                                                 \n",
      " dense_1 (Dense)             (None, 37)                18981     \n",
      "                                                                 \n",
      "=================================================================\n",
      "Total params: 3,471,589\n",
      "Trainable params: 3,471,589\n",
      "Non-trainable params: 0\n",
      "_________________________________________________________________\n"
     ]
    }
   ],
   "source": [
    "model.summary()"
   ]
  },
  {
   "cell_type": "code",
   "execution_count": 8,
   "metadata": {},
   "outputs": [],
   "source": [
    "from tensorflow.keras import optimizers\n",
    "\n",
    "model.compile(\n",
    "    loss='categorical_crossentropy',  # Use 'categorical_crossentropy' for multi-class classification\n",
    "    optimizer=optimizers.Adam(learning_rate=1e-4),  # Adam optimizer is commonly used\n",
    "    metrics=['accuracy']  # 'accuracy' is a suitable metric for classification tasks\n",
    ")\n"
   ]
  },
  {
   "cell_type": "code",
   "execution_count": 11,
   "metadata": {},
   "outputs": [
    {
     "name": "stderr",
     "output_type": "stream",
     "text": [
      "C:\\Users\\alok\\AppData\\Local\\Temp\\ipykernel_10204\\3681141684.py:1: UserWarning: `Model.fit_generator` is deprecated and will be removed in a future version. Please use `Model.fit`, which supports generators.\n",
      "  history = model.fit_generator(\n"
     ]
    },
    {
     "name": "stdout",
     "output_type": "stream",
     "text": [
      "Epoch 1/20\n",
      "100/100 [==============================] - 77s 734ms/step - loss: 2.7403 - accuracy: 0.2820\n",
      "Epoch 2/20\n",
      "100/100 [==============================] - 74s 742ms/step - loss: 0.5783 - accuracy: 0.8330\n",
      "Epoch 3/20\n",
      "100/100 [==============================] - 64s 639ms/step - loss: 0.3010 - accuracy: 0.9185\n",
      "Epoch 4/20\n",
      "100/100 [==============================] - 52s 516ms/step - loss: 0.1794 - accuracy: 0.9500\n",
      "Epoch 5/20\n",
      "100/100 [==============================] - 51s 507ms/step - loss: 0.1050 - accuracy: 0.9720\n",
      "Epoch 6/20\n",
      "100/100 [==============================] - 50s 498ms/step - loss: 0.0567 - accuracy: 0.9850\n",
      "Epoch 7/20\n",
      "100/100 [==============================] - 50s 504ms/step - loss: 0.0381 - accuracy: 0.9875\n",
      "Epoch 8/20\n",
      "100/100 [==============================] - 50s 497ms/step - loss: 0.0440 - accuracy: 0.9870\n",
      "Epoch 9/20\n",
      "100/100 [==============================] - 47s 465ms/step - loss: 0.0313 - accuracy: 0.9915\n",
      "Epoch 10/20\n",
      "100/100 [==============================] - 47s 473ms/step - loss: 0.0078 - accuracy: 0.9990\n",
      "Epoch 11/20\n",
      "100/100 [==============================] - 50s 501ms/step - loss: 0.0398 - accuracy: 0.9880\n",
      "Epoch 12/20\n",
      "100/100 [==============================] - 50s 497ms/step - loss: 0.0156 - accuracy: 0.9955\n",
      "Epoch 13/20\n",
      "100/100 [==============================] - 49s 486ms/step - loss: 0.0149 - accuracy: 0.9955\n",
      "Epoch 14/20\n",
      "100/100 [==============================] - 48s 475ms/step - loss: 0.0128 - accuracy: 0.9945\n",
      "Epoch 15/20\n",
      "100/100 [==============================] - 47s 469ms/step - loss: 0.0180 - accuracy: 0.9945\n",
      "Epoch 16/20\n",
      "100/100 [==============================] - 46s 461ms/step - loss: 0.0184 - accuracy: 0.9945\n",
      "Epoch 17/20\n",
      "100/100 [==============================] - 47s 467ms/step - loss: 0.0128 - accuracy: 0.9975\n",
      "Epoch 18/20\n",
      "100/100 [==============================] - 48s 476ms/step - loss: 0.0144 - accuracy: 0.9960\n",
      "Epoch 19/20\n",
      "100/100 [==============================] - 48s 482ms/step - loss: 0.0528 - accuracy: 0.9870\n",
      "Epoch 20/20\n",
      "100/100 [==============================] - 47s 469ms/step - loss: 0.0050 - accuracy: 0.9990\n"
     ]
    }
   ],
   "source": [
    "history = model.fit_generator(\n",
    "    train_datagenerator,\n",
    "    steps_per_epoch = 100,\n",
    "    epochs = 20,\n",
    ")"
   ]
  },
  {
   "cell_type": "code",
   "execution_count": null,
   "metadata": {},
   "outputs": [],
   "source": []
  },
  {
   "cell_type": "code",
   "execution_count": 14,
   "metadata": {},
   "outputs": [
    {
     "data": {
      "image/png": "[encoded data removed]",
      "text/plain": [
       "<Figure size 576x360 with 1 Axes>"
      ]
     },
     "metadata": {
      "needs_background": "light"
     },
     "output_type": "display_data"
    }
   ],
   "source": [
    "import pandas as pd\n",
    "import matplotlib.pyplot as plt\n",
    "pd.DataFrame(history.history).plot(figsize=(8,5))\n",
    "plt.grid(True)\n",
    "plt.gca().set_ylim(0,1)\n",
    "plt.show()"
   ]
  },
  {
   "cell_type": "code",
   "execution_count": 15,
   "metadata": {},
   "outputs": [],
   "source": [
    "model.save(\"sign_1.h5\")"
   ]
  },
  {
   "cell_type": "code",
   "execution_count": 16,
   "metadata": {},
   "outputs": [],
   "source": [
    "from tensorflow.keras import backend as K\n",
    "\n",
    "K.clear_session()\n",
    "del model"
   ]
  },
  {
   "cell_type": "markdown",
   "metadata": {},
   "source": [
    "# Test model"
   ]
  },
  {
   "cell_type": "code",
   "execution_count": 17,
   "metadata": {},
   "outputs": [],
   "source": [
    "from tensorflow.keras.preprocessing import image\n",
    "from tensorflow.keras.models import load_model\n",
    "import numpy as np\n"
   ]
  },
  {
   "cell_type": "code",
   "execution_count": 18,
   "metadata": {},
   "outputs": [],
   "source": [
    "# Load the trained model\n",
    "model = load_model('sign_1.h5')  # Replace with the actual path to your trained model"
   ]
  },
  {
   "cell_type": "code",
   "execution_count": 36,
   "metadata": {},
   "outputs": [],
   "source": [
    "# Path to the image you want to test\n",
    "image_path = \"C:\\\\Users\\\\alok\\\\Downloads\\\\signLanguage\\\\Test\\\\_J\\\\98.jpg\" "
   ]
  },
  {
   "cell_type": "code",
   "execution_count": 37,
   "metadata": {},
   "outputs": [],
   "source": [
    "# Load and preprocess the image for prediction\n",
    "img = image.load_img(image_path, target_size=(150, 150))\n",
    "img_array = image.img_to_array(img)\n",
    "img_array = np.expand_dims(img_array, axis=0)\n",
    "img_array /= 255.0"
   ]
  },
  {
   "cell_type": "code",
   "execution_count": 38,
   "metadata": {},
   "outputs": [
    {
     "name": "stdout",
     "output_type": "stream",
     "text": [
      "1/1 [==============================] - 0s 31ms/step\n"
     ]
    }
   ],
   "source": [
    "# Make a prediction\n",
    "predictions = model.predict(img_array)"
   ]
  },
  {
   "cell_type": "code",
   "execution_count": 39,
   "metadata": {},
   "outputs": [],
   "source": [
    "# Decode the predictions to get class labels\n",
    "# Assuming your classes are represented as integers (0 to 36)\n",
    "predicted_class_index = np.argmax(predictions)"
   ]
  },
  {
   "cell_type": "code",
   "execution_count": 40,
   "metadata": {},
   "outputs": [],
   "source": [
    "# Assuming you have a list of class labels corresponding to class indices\n",
    "class_labels = ['0','1','2','3','4','5','6','7','8','9','A', 'B', 'C','D','E','F','G','H','I','J','K','L','M','N','O','P','Q','R','S','T','U','V','W','X','Y','Z','_']"
   ]
  },
  {
   "cell_type": "code",
   "execution_count": 41,
   "metadata": {},
   "outputs": [
    {
     "name": "stdout",
     "output_type": "stream",
     "text": [
      "Predicted Class Index: 19\n",
      "Predicted Class Label: J\n"
     ]
    }
   ],
   "source": [
    "predicted_class_label = class_labels[predicted_class_index]\n",
    "\n",
    "print(f\"Predicted Class Index: {predicted_class_index}\")\n",
    "print(f\"Predicted Class Label: {predicted_class_label}\")"
   ]
  },
  {
   "cell_type": "code",
   "execution_count": null,
   "metadata": {},
   "outputs": [],
   "source": []
  }
 ],
 "metadata": {
  "kernelspec": {
   "display_name": "Python 3",
   "language": "python",
   "name": "python3"
  },
  "language_info": {
   "codemirror_mode": {
    "name": "ipython",
    "version": 3
   },
   "file_extension": ".py",
   "mimetype": "text/x-python",
   "name": "python",
   "nbconvert_exporter": "python",
   "pygments_lexer": "ipython3",
   "version": "3.10.5"
  }
 },
 "nbformat": 4,
 "nbformat_minor": 2
}
